{
 "cells": [
  {
   "cell_type": "code",
   "execution_count": 43,
   "metadata": {
    "collapsed": true
   },
   "outputs": [],
   "source": [
    "import pandas as pd\n",
    "import os"
   ]
  },
  {
   "cell_type": "code",
   "execution_count": 64,
   "metadata": {
    "collapsed": true
   },
   "outputs": [],
   "source": [
    "def filename(file_dir):\n",
    "    l = []\n",
    "    for root, dirs, files in os.walk(file_dir):\n",
    "        for file in files:\n",
    "            if file.endswith('_info.csv'): \n",
    "                l.append(file)\n",
    "    return l\n",
    "            "
   ]
  },
  {
   "cell_type": "code",
   "execution_count": 69,
   "metadata": {
    "collapsed": false
   },
   "outputs": [],
   "source": [
    "path = os.getcwd()+'/data1/'\n",
    "files = filename(path)\n",
    "for f in files:\n",
    "    df = pd.read_csv(path + f)\n",
    "    df['date'] = pd.to_datetime(df.collect_time)\n",
    "    df['date'] = df.date.dt.date\n",
    "\n",
    "    charge = pd.DataFrame(df.groupby(['car_id','date'])['charge_usedtime','charged_soc'].sum())\n",
    "    charge = charge.join(pd.DataFrame(df.groupby(['car_id','date'])['collect_time'].count()))\n",
    "    charge = charge.reset_index()\n",
    "    charge.to_csv(path+'charge.csv',mode='a+')"
   ]
  },
  {
   "cell_type": "code",
   "execution_count": 1,
   "metadata": {
    "collapsed": true
   },
   "outputs": [],
   "source": [
    "%matplotlib  inline \n",
    "from impala.dbapi  import connect \n",
    "from sqlalchemy import *  \n",
    "from sqlalchemy.sql import select  \n",
    "from sqlalchemy.schema import *  \n",
    "import numpy as np\n",
    "from sqlalchemy.orm import sessionmaker\n",
    "import pandas as pd\n",
    "import os  \n",
    "from os.path import join, getsize  \n",
    "from multiprocessing.dummy  import Pool \n",
    "import sys\n",
    "reload(sys)\n",
    "sys.setdefaultencoding(\"gbk\")   ## window 下使用这种编码解决大部分问题 \n",
    "conn=connect(host=\"10.10.36.237\",port=21050,user=\"bjzx\",password=\"Abc1234%\")\n",
    "cursor=conn.cursor()"
   ]
  },
  {
   "cell_type": "code",
   "execution_count": 24,
   "metadata": {
    "collapsed": false
   },
   "outputs": [],
   "source": [
    "def get_useinfo(e):\n",
    "    lithum = pd.read_sql_query(\"select car_id,collect_time,receive_time,charge_status,current_soc from xxzx.his_lithium_can_data_v3 where dt='2016-12-01' and car_id=%s\"%e,conn) \n",
    "    lithum['collect_time'] = pd.to_datetime(lithum.collect_time)\n",
    "    lithum['receive_time'] = pd.to_datetime(lithum.receive_time)\n",
    "\n",
    "    # 时间异常值处理\n",
    "    lithum1 = lithum[(lithum.receive_time-lithum.collect_time).apply(lambda x: x.days>1)]\n",
    "    lithum1.collect_time = lithum1.receive_time\n",
    "    lithum2 = lithum[(lithum.receive_time-lithum.collect_time).apply(lambda x: x.days<=1)]\n",
    "    lithum = pd.concat([lithum1,lithum2],axis=0)\n",
    "    # 去重\n",
    "    lithum.drop_duplicates(inplace=True)\n",
    "    lithum.drop(['car_id','receive_time'],axis=1,inplace=True)\n",
    "\n",
    "    lithum.sort_values('collect_time',inplace=True)\n",
    "    lithum['label'] = lithum.charge_status-lithum.charge_status.shift(1)\n",
    "    startcharge = lithum[abs(lithum.label)>1]  # 充电插拔\n",
    "    del lithum,lithum1,lithum2\n",
    "    if startcharge.shape[0] > 0:\n",
    "        startcharge['charge_usedtime'] = (startcharge.collect_time.shift(-1) - startcharge.collect_time)\n",
    "        startcharge['charged_soc'] = (startcharge.current_soc.shift(-1) - startcharge.current_soc)\n",
    "        startcharge.dropna(inplace=True)\n",
    "        used_info = startcharge[startcharge.label==3][['collect_time','charge_usedtime','current_soc','charged_soc']]\n",
    "        used_info.rename(columns={'current_soc':'start_soc'},inplace=True)\n",
    "        # 去掉异常值 一分钟充电量异常\n",
    "        used_info.charge_usedtime = used_info.charge_usedtime.dt.seconds.apply(lambda x: x/60)\n",
    "        used_info['unit_charge_soc'] = used_info.charged_soc/used_info.charge_usedtime\n",
    "        used_info = used_info[(used_info.unit_charge_soc>0)&(used_info.unit_charge_soc<10)]\n",
    "        used_info['car_id'] = e\n",
    "        del startcharge\n",
    "        return used_info\n"
   ]
  },
  {
   "cell_type": "code",
   "execution_count": null,
   "metadata": {
    "collapsed": true
   },
   "outputs": [],
   "source": [
    "lithumv3_id = pd.read_csv('data1/lithumv3.csv')\n",
    "l = []\n",
    "car_ids = lithumv3_id.lithumv3.tolist()"
   ]
  },
  {
   "cell_type": "code",
   "execution_count": 9,
   "metadata": {
    "collapsed": false
   },
   "outputs": [
    {
     "data": {
      "text/html": [
       "<div>\n",
       "<table border=\"1\" class=\"dataframe\">\n",
       "  <thead>\n",
       "    <tr style=\"text-align: right;\">\n",
       "      <th></th>\n",
       "      <th>collect_time</th>\n",
       "      <th>charge_usedtime</th>\n",
       "      <th>start_soc</th>\n",
       "      <th>charged_soc</th>\n",
       "      <th>unit_charge_soc</th>\n",
       "      <th>car_id</th>\n",
       "    </tr>\n",
       "  </thead>\n",
       "  <tbody>\n",
       "  </tbody>\n",
       "</table>\n",
       "</div>"
      ],
      "text/plain": [
       "Empty DataFrame\n",
       "Columns: [collect_time, charge_usedtime, start_soc, charged_soc, unit_charge_soc, car_id]\n",
       "Index: []"
      ]
     },
     "execution_count": 9,
     "metadata": {},
     "output_type": "execute_result"
    }
   ],
   "source": [
    "lithum_can = pd.DataFrame(columns=['collect_time','charge_usedtime','start_soc','charged_soc','unit_charge_soc','car_id'])\n",
    "lithum_can"
   ]
  },
  {
   "cell_type": "code",
   "execution_count": 10,
   "metadata": {
    "collapsed": false
   },
   "outputs": [],
   "source": [
    "for i, e in enumerate(car_ids):\n",
    "    try:\n",
    "        lithum_can = pd.concat([lithum_can,get_useinfo(e)],axis=0)\n",
    "    except:\n",
    "        l.append(e)"
   ]
  },
  {
   "cell_type": "code",
   "execution_count": 14,
   "metadata": {
    "collapsed": false
   },
   "outputs": [
    {
     "data": {
      "text/plain": [
       "666"
      ]
     },
     "execution_count": 14,
     "metadata": {},
     "output_type": "execute_result"
    }
   ],
   "source": [
    "lithum_can.to_csv('data1/lithumv3_info.csv',index=None)\n",
    "lithum_can.car_id.nunique()"
   ]
  }
 ],
 "metadata": {
  "anaconda-cloud": {},
  "kernelspec": {
   "display_name": "Python [default]",
   "language": "python",
   "name": "python2"
  },
  "language_info": {
   "codemirror_mode": {
    "name": "ipython",
    "version": 2
   },
   "file_extension": ".py",
   "mimetype": "text/x-python",
   "name": "python",
   "nbconvert_exporter": "python",
   "pygments_lexer": "ipython2",
   "version": "2.7.12"
  }
 },
 "nbformat": 4,
 "nbformat_minor": 1
}
